{
 "cells": [
  {
   "cell_type": "markdown",
   "metadata": {},
   "source": [
    "### Customer Lifetime Value prediction"
   ]
  },
  {
   "cell_type": "code",
   "execution_count": 1277,
   "metadata": {
    "ExecuteTime": {
     "end_time": "2024-04-07T20:37:47.842518500Z",
     "start_time": "2024-04-07T20:37:47.817473300Z"
    }
   },
   "outputs": [],
   "source": [
    "import pandas as pd"
   ]
  },
  {
   "cell_type": "code",
   "execution_count": 1278,
   "metadata": {
    "ExecuteTime": {
     "end_time": "2024-04-07T20:37:48.514233200Z",
     "start_time": "2024-04-07T20:37:47.823519300Z"
    }
   },
   "outputs": [
    {
     "name": "stdout",
     "output_type": "stream",
     "text": [
      "<class 'pandas.core.frame.DataFrame'>\n",
      "RangeIndex: 541909 entries, 0 to 541908\n",
      "Data columns (total 8 columns):\n",
      " #   Column       Non-Null Count   Dtype  \n",
      "---  ------       --------------   -----  \n",
      " 0   InvoiceNo    541909 non-null  object \n",
      " 1   StockCode    541909 non-null  object \n",
      " 2   Description  540455 non-null  object \n",
      " 3   Quantity     541909 non-null  int64  \n",
      " 4   InvoiceDate  541909 non-null  object \n",
      " 5   UnitPrice    541909 non-null  float64\n",
      " 6   CustomerID   406829 non-null  float64\n",
      " 7   Country      541909 non-null  object \n",
      "dtypes: float64(2), int64(1), object(5)\n",
      "memory usage: 33.1+ MB\n"
     ]
    }
   ],
   "source": [
    "df = pd.read_csv(filepath_or_buffer=\"./data/customer_segmentation.csv\",\n",
    "                 encoding=\"cp1252\")  # Specify the encoding!\n",
    "df.info()"
   ]
  },
  {
   "cell_type": "markdown",
   "metadata": {},
   "source": [
    "#### Convert the date field"
   ]
  },
  {
   "cell_type": "code",
   "execution_count": 1279,
   "metadata": {
    "ExecuteTime": {
     "end_time": "2024-04-07T20:37:48.619719500Z",
     "start_time": "2024-04-07T20:37:48.525239800Z"
    }
   },
   "outputs": [],
   "source": [
    "df['InvoiceDate'] = pd.to_datetime(df['InvoiceDate'])"
   ]
  },
  {
   "cell_type": "markdown",
   "metadata": {},
   "source": [
    "#### Create a new field / feature from existing ones"
   ]
  },
  {
   "cell_type": "code",
   "execution_count": 1280,
   "outputs": [],
   "source": [
    "df['InvoiceYearMonth'] = df['InvoiceDate'].map(lambda date: 100 * date.year + date.month)\n",
    "df['Revenue'] = df['UnitPrice'] * df['Quantity']  # This should be predicted!"
   ],
   "metadata": {
    "collapsed": false,
    "ExecuteTime": {
     "end_time": "2024-04-07T20:37:49.123795400Z",
     "start_time": "2024-04-07T20:37:48.901737300Z"
    }
   }
  },
  {
   "cell_type": "code",
   "execution_count": 1281,
   "outputs": [
    {
     "data": {
      "text/plain": "  InvoiceNo StockCode                         Description  Quantity  \\\n0    536365    85123A  WHITE HANGING HEART T-LIGHT HOLDER         6   \n1    536365     71053                 WHITE METAL LANTERN         6   \n\n          InvoiceDate  UnitPrice  CustomerID         Country  \\\n0 2010-12-01 08:26:00       2.55     17850.0  United Kingdom   \n1 2010-12-01 08:26:00       3.39     17850.0  United Kingdom   \n\n   InvoiceYearMonth  Revenue  \n0            201012    15.30  \n1            201012    20.34  ",
      "text/html": "<div>\n<style scoped>\n    .dataframe tbody tr th:only-of-type {\n        vertical-align: middle;\n    }\n\n    .dataframe tbody tr th {\n        vertical-align: top;\n    }\n\n    .dataframe thead th {\n        text-align: right;\n    }\n</style>\n<table border=\"1\" class=\"dataframe\">\n  <thead>\n    <tr style=\"text-align: right;\">\n      <th></th>\n      <th>InvoiceNo</th>\n      <th>StockCode</th>\n      <th>Description</th>\n      <th>Quantity</th>\n      <th>InvoiceDate</th>\n      <th>UnitPrice</th>\n      <th>CustomerID</th>\n      <th>Country</th>\n      <th>InvoiceYearMonth</th>\n      <th>Revenue</th>\n    </tr>\n  </thead>\n  <tbody>\n    <tr>\n      <th>0</th>\n      <td>536365</td>\n      <td>85123A</td>\n      <td>WHITE HANGING HEART T-LIGHT HOLDER</td>\n      <td>6</td>\n      <td>2010-12-01 08:26:00</td>\n      <td>2.55</td>\n      <td>17850.0</td>\n      <td>United Kingdom</td>\n      <td>201012</td>\n      <td>15.30</td>\n    </tr>\n    <tr>\n      <th>1</th>\n      <td>536365</td>\n      <td>71053</td>\n      <td>WHITE METAL LANTERN</td>\n      <td>6</td>\n      <td>2010-12-01 08:26:00</td>\n      <td>3.39</td>\n      <td>17850.0</td>\n      <td>United Kingdom</td>\n      <td>201012</td>\n      <td>20.34</td>\n    </tr>\n  </tbody>\n</table>\n</div>"
     },
     "execution_count": 1281,
     "metadata": {},
     "output_type": "execute_result"
    }
   ],
   "source": [
    "df.head(2)"
   ],
   "metadata": {
    "collapsed": false,
    "ExecuteTime": {
     "end_time": "2024-04-07T20:37:49.132650800Z",
     "start_time": "2024-04-07T20:37:49.130795400Z"
    }
   }
  },
  {
   "cell_type": "code",
   "execution_count": 1282,
   "outputs": [
    {
     "data": {
      "text/plain": "            Quantity                    InvoiceDate      UnitPrice  \\\ncount  541909.000000                         541909  541909.000000   \nmean        9.552250  2011-07-04 13:34:57.156386048       4.611114   \nmin    -80995.000000            2010-12-01 08:26:00  -11062.060000   \n25%         1.000000            2011-03-28 11:34:00       1.250000   \n50%         3.000000            2011-07-19 17:17:00       2.080000   \n75%        10.000000            2011-10-19 11:27:00       4.130000   \nmax     80995.000000            2011-12-09 12:50:00   38970.000000   \nstd       218.081158                            NaN      96.759853   \n\n          CustomerID  InvoiceYearMonth        Revenue  \ncount  406829.000000     541909.000000  541909.000000  \nmean    15287.690570     201099.713989      17.987795  \nmin     12346.000000     201012.000000 -168469.600000  \n25%     13953.000000     201103.000000       3.400000  \n50%     15152.000000     201107.000000       9.750000  \n75%     16791.000000     201110.000000      17.400000  \nmax     18287.000000     201112.000000  168469.600000  \nstd      1713.600303         25.788703     378.810824  ",
      "text/html": "<div>\n<style scoped>\n    .dataframe tbody tr th:only-of-type {\n        vertical-align: middle;\n    }\n\n    .dataframe tbody tr th {\n        vertical-align: top;\n    }\n\n    .dataframe thead th {\n        text-align: right;\n    }\n</style>\n<table border=\"1\" class=\"dataframe\">\n  <thead>\n    <tr style=\"text-align: right;\">\n      <th></th>\n      <th>Quantity</th>\n      <th>InvoiceDate</th>\n      <th>UnitPrice</th>\n      <th>CustomerID</th>\n      <th>InvoiceYearMonth</th>\n      <th>Revenue</th>\n    </tr>\n  </thead>\n  <tbody>\n    <tr>\n      <th>count</th>\n      <td>541909.000000</td>\n      <td>541909</td>\n      <td>541909.000000</td>\n      <td>406829.000000</td>\n      <td>541909.000000</td>\n      <td>541909.000000</td>\n    </tr>\n    <tr>\n      <th>mean</th>\n      <td>9.552250</td>\n      <td>2011-07-04 13:34:57.156386048</td>\n      <td>4.611114</td>\n      <td>15287.690570</td>\n      <td>201099.713989</td>\n      <td>17.987795</td>\n    </tr>\n    <tr>\n      <th>min</th>\n      <td>-80995.000000</td>\n      <td>2010-12-01 08:26:00</td>\n      <td>-11062.060000</td>\n      <td>12346.000000</td>\n      <td>201012.000000</td>\n      <td>-168469.600000</td>\n    </tr>\n    <tr>\n      <th>25%</th>\n      <td>1.000000</td>\n      <td>2011-03-28 11:34:00</td>\n      <td>1.250000</td>\n      <td>13953.000000</td>\n      <td>201103.000000</td>\n      <td>3.400000</td>\n    </tr>\n    <tr>\n      <th>50%</th>\n      <td>3.000000</td>\n      <td>2011-07-19 17:17:00</td>\n      <td>2.080000</td>\n      <td>15152.000000</td>\n      <td>201107.000000</td>\n      <td>9.750000</td>\n    </tr>\n    <tr>\n      <th>75%</th>\n      <td>10.000000</td>\n      <td>2011-10-19 11:27:00</td>\n      <td>4.130000</td>\n      <td>16791.000000</td>\n      <td>201110.000000</td>\n      <td>17.400000</td>\n    </tr>\n    <tr>\n      <th>max</th>\n      <td>80995.000000</td>\n      <td>2011-12-09 12:50:00</td>\n      <td>38970.000000</td>\n      <td>18287.000000</td>\n      <td>201112.000000</td>\n      <td>168469.600000</td>\n    </tr>\n    <tr>\n      <th>std</th>\n      <td>218.081158</td>\n      <td>NaN</td>\n      <td>96.759853</td>\n      <td>1713.600303</td>\n      <td>25.788703</td>\n      <td>378.810824</td>\n    </tr>\n  </tbody>\n</table>\n</div>"
     },
     "execution_count": 1282,
     "metadata": {},
     "output_type": "execute_result"
    }
   ],
   "source": [
    "df.describe()"
   ],
   "metadata": {
    "collapsed": false,
    "ExecuteTime": {
     "end_time": "2024-04-07T20:37:49.305929600Z",
     "start_time": "2024-04-07T20:37:49.134659400Z"
    }
   }
  },
  {
   "cell_type": "code",
   "execution_count": 1283,
   "outputs": [
    {
     "name": "stdout",
     "output_type": "stream",
     "text": [
      "2015\n",
      "       InvoiceNo  Quantity         InvoiceDate  UnitPrice  CustomerID  \\\n",
      "223297    556479         3 2011-06-12 12:50:00       8.95     16983.0   \n",
      "223298    556479         1 2011-06-12 12:50:00       1.65     16983.0   \n",
      "223299    556479         1 2011-06-12 12:50:00       2.95     16983.0   \n",
      "223300    556479         2 2011-06-12 12:50:00       2.95     16983.0   \n",
      "223301    556479         6 2011-06-12 12:50:00       3.75     16983.0   \n",
      "\n",
      "               Country  InvoiceYearMonth  Revenue  \n",
      "223297  United Kingdom            201106    26.85  \n",
      "223298  United Kingdom            201106     1.65  \n",
      "223299  United Kingdom            201106     2.95  \n",
      "223300  United Kingdom            201106     5.90  \n",
      "223301  United Kingdom            201106    22.50  \n"
     ]
    },
    {
     "data": {
      "text/plain": "(210890, 8)"
     },
     "execution_count": 1283,
     "metadata": {},
     "output_type": "execute_result"
    }
   ],
   "source": [
    "filtered = df.drop(columns=['StockCode', 'Description'])\n",
    "filtered = filtered.dropna()\n",
    "\n",
    "# keep only rows that make sens, i.e. are either definitely costs or definitely profits\n",
    "filtered = filtered[\n",
    "    (filtered['Revenue'] > 0) & (filtered['Quantity'] > 0) | (filtered['Revenue'] < 0) & (\n",
    "                filtered['Quantity'] < 0)]\n",
    "\n",
    "max_date = df['InvoiceDate'].max()\n",
    "date_limit = max_date - pd.Timedelta(days=180)\n",
    "filtered = filtered[filtered['InvoiceDate'] >= date_limit]\n",
    "# filtered = filtered['CustomerID'].apply(lambda x: int(x) if x == x else \"\")\n",
    "\n",
    "\n",
    "positive_revenue = filtered[filtered['Revenue'] >= 0]\n",
    "positive_revenue = positive_revenue.drop_duplicates(subset=['InvoiceNo'], keep='first')\n",
    "\n",
    "invoice_counts = positive_revenue['CustomerID'].value_counts()\n",
    "\n",
    "customers_with_multiple_invoices = invoice_counts[invoice_counts >= 2.0].keys()\n",
    "\n",
    "print(len(customers_with_multiple_invoices))\n",
    "filtered_aux = filtered[filtered['CustomerID'].isin(customers_with_multiple_invoices)]\n",
    "\n",
    "print(filtered_aux.head(5))\n",
    "filtered_aux.shape"
   ],
   "metadata": {
    "collapsed": false,
    "ExecuteTime": {
     "end_time": "2024-04-07T20:37:49.500069Z",
     "start_time": "2024-04-07T20:37:49.307926900Z"
    }
   }
  },
  {
   "cell_type": "code",
   "execution_count": 1284,
   "outputs": [
    {
     "name": "stdout",
     "output_type": "stream",
     "text": [
      "count    2015.000000\n",
      "mean       35.596346\n",
      "std        29.747180\n",
      "min         0.000000\n",
      "25%        15.763889\n",
      "50%        27.000000\n",
      "75%        47.000000\n",
      "max       175.000000\n",
      "Name: InvoiceDate, dtype: float64\n"
     ]
    },
    {
     "data": {
      "text/plain": "         CustomerID       Revenue    Frequency  MeanTimeBetweenBuys  \\\ncount   1996.000000   1996.000000  1996.000000          1996.000000   \nmean   15266.786072   1635.085441     4.966433            35.877126   \nstd     1708.623415   2165.007939     5.078173            29.745633   \nmin    12347.000000   -229.200000     1.000000             0.000000   \n25%    13813.750000    563.427500     2.000000            16.100000   \n50%    15256.500000   1005.105000     4.000000            27.250000   \n75%    16745.250000   1830.035000     6.000000            47.000000   \nmax    18287.000000  23934.000000   127.000000           175.000000   \n\n           Recency  \ncount  1996.000000  \nmean     29.441884  \nstd      32.256089  \nmin       0.000000  \n25%       7.000000  \n50%      18.000000  \n75%      40.000000  \nmax     171.000000  ",
      "text/html": "<div>\n<style scoped>\n    .dataframe tbody tr th:only-of-type {\n        vertical-align: middle;\n    }\n\n    .dataframe tbody tr th {\n        vertical-align: top;\n    }\n\n    .dataframe thead th {\n        text-align: right;\n    }\n</style>\n<table border=\"1\" class=\"dataframe\">\n  <thead>\n    <tr style=\"text-align: right;\">\n      <th></th>\n      <th>CustomerID</th>\n      <th>Revenue</th>\n      <th>Frequency</th>\n      <th>MeanTimeBetweenBuys</th>\n      <th>Recency</th>\n    </tr>\n  </thead>\n  <tbody>\n    <tr>\n      <th>count</th>\n      <td>1996.000000</td>\n      <td>1996.000000</td>\n      <td>1996.000000</td>\n      <td>1996.000000</td>\n      <td>1996.000000</td>\n    </tr>\n    <tr>\n      <th>mean</th>\n      <td>15266.786072</td>\n      <td>1635.085441</td>\n      <td>4.966433</td>\n      <td>35.877126</td>\n      <td>29.441884</td>\n    </tr>\n    <tr>\n      <th>std</th>\n      <td>1708.623415</td>\n      <td>2165.007939</td>\n      <td>5.078173</td>\n      <td>29.745633</td>\n      <td>32.256089</td>\n    </tr>\n    <tr>\n      <th>min</th>\n      <td>12347.000000</td>\n      <td>-229.200000</td>\n      <td>1.000000</td>\n      <td>0.000000</td>\n      <td>0.000000</td>\n    </tr>\n    <tr>\n      <th>25%</th>\n      <td>13813.750000</td>\n      <td>563.427500</td>\n      <td>2.000000</td>\n      <td>16.100000</td>\n      <td>7.000000</td>\n    </tr>\n    <tr>\n      <th>50%</th>\n      <td>15256.500000</td>\n      <td>1005.105000</td>\n      <td>4.000000</td>\n      <td>27.250000</td>\n      <td>18.000000</td>\n    </tr>\n    <tr>\n      <th>75%</th>\n      <td>16745.250000</td>\n      <td>1830.035000</td>\n      <td>6.000000</td>\n      <td>47.000000</td>\n      <td>40.000000</td>\n    </tr>\n    <tr>\n      <th>max</th>\n      <td>18287.000000</td>\n      <td>23934.000000</td>\n      <td>127.000000</td>\n      <td>175.000000</td>\n      <td>171.000000</td>\n    </tr>\n  </tbody>\n</table>\n</div>"
     },
     "execution_count": 1284,
     "metadata": {},
     "output_type": "execute_result"
    }
   ],
   "source": [
    "latest_buy = filtered_aux.groupby('CustomerID').InvoiceDate.max().reset_index()\n",
    "latest_buy.columns = ['CustomerID','LatestBuyDate']\n",
    "latest_buy['Recency'] = (max_date - latest_buy['LatestBuyDate']).dt.days\n",
    "latest_buy.drop(['LatestBuyDate'], axis=1, inplace=True)\n",
    "\n",
    "\n",
    "purchase_dates = filtered_aux.groupby('CustomerID')['InvoiceDate'].unique()\n",
    "frequency = purchase_dates.apply(len)\n",
    "average_time_between_buys = purchase_dates.apply(lambda p: [(p[n] - p[n-1]).days for n in range(1, len(p))])\n",
    "average_time_between_buys = average_time_between_buys.apply(lambda p: sum(p)/len(p) if len(p) > 1 else sum(p))\n",
    "\n",
    "print(average_time_between_buys.describe())\n",
    "\n",
    "# print(frequency.head(5))\n",
    "# print(frequency.describe())\n",
    "# \n",
    "# frequency['InvoiceDate'].apply(lambda date_list: len(date_list))\n",
    "# frequency = filtered_aux.groupby('CustomerID').InvoiceDate.unique().count()\n",
    "# frequency.columns = ['CustomerID', 'Frequency']\n",
    "\n",
    "\n",
    "revenue = filtered_aux.groupby('CustomerID').Revenue.sum().reset_index()\n",
    "revenue = revenue[np.abs(revenue.Revenue - revenue.Revenue.mean()) < (3 * revenue.Revenue.std())]\n",
    "\n",
    "final = pd.merge(revenue, frequency.to_frame(), on='CustomerID')\n",
    "final = pd.merge(final, average_time_between_buys.to_frame(), on='CustomerID')\n",
    "\n",
    "final.rename(columns={'InvoiceDate_x':'Frequency', 'InvoiceDate_y':'MeanTimeBetweenBuys'}, inplace=True)\n",
    "final['Recency'] = latest_buy['Recency']\n",
    "\n",
    "\n",
    "final.head(5)\n",
    "final.describe()\n",
    "# revenue.head(5)\n",
    "# revenue.describe()\n"
   ],
   "metadata": {
    "collapsed": false,
    "ExecuteTime": {
     "end_time": "2024-04-07T20:37:49.746853500Z",
     "start_time": "2024-04-07T20:37:49.501052600Z"
    }
   }
  },
  {
   "cell_type": "code",
   "execution_count": 1284,
   "outputs": [],
   "source": [],
   "metadata": {
    "collapsed": false,
    "ExecuteTime": {
     "end_time": "2024-04-07T20:37:49.748871800Z",
     "start_time": "2024-04-07T20:37:49.745631600Z"
    }
   }
  }
 ],
 "metadata": {
  "kernelspec": {
   "name": "python3",
   "language": "python",
   "display_name": "Python 3 (ipykernel)"
  },
  "language_info": {
   "codemirror_mode": {
    "name": "ipython",
    "version": 3
   },
   "file_extension": ".py",
   "mimetype": "text/x-python",
   "name": "python",
   "nbconvert_exporter": "python",
   "pygments_lexer": "ipython3",
   "version": "3.10.9"
  }
 },
 "nbformat": 4,
 "nbformat_minor": 2
}
